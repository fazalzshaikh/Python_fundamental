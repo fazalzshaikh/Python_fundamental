{
 "cells": [
  {
   "cell_type": "code",
   "execution_count": null,
   "id": "31bf3b98",
   "metadata": {},
   "outputs": [],
   "source": [
    "# my first program"
   ]
  },
  {
   "cell_type": "code",
   "execution_count": 1,
   "id": "f1359bca",
   "metadata": {},
   "outputs": [
    {
     "name": "stdout",
     "output_type": "stream",
     "text": [
      "hello this is fazal\n"
     ]
    }
   ],
   "source": [
    "print('hello this is fazal')"
   ]
  },
  {
   "cell_type": "code",
   "execution_count": 2,
   "id": "214ea326",
   "metadata": {},
   "outputs": [],
   "source": [
    "x=5\n",
    "y=7\n",
    "z=9"
   ]
  },
  {
   "cell_type": "code",
   "execution_count": 3,
   "id": "227e1be0",
   "metadata": {},
   "outputs": [
    {
     "name": "stdout",
     "output_type": "stream",
     "text": [
      "21\n"
     ]
    }
   ],
   "source": [
    "print(x+y+z)"
   ]
  },
  {
   "cell_type": "code",
   "execution_count": 4,
   "id": "0083a4f8",
   "metadata": {},
   "outputs": [],
   "source": [
    "name='fazal zakir'"
   ]
  },
  {
   "cell_type": "code",
   "execution_count": 5,
   "id": "43f66dcb",
   "metadata": {},
   "outputs": [
    {
     "name": "stdout",
     "output_type": "stream",
     "text": [
      "FAZAL ZAKIR\n"
     ]
    }
   ],
   "source": [
    "print(name.upper())"
   ]
  },
  {
   "cell_type": "code",
   "execution_count": 6,
   "id": "0f2bb358",
   "metadata": {},
   "outputs": [
    {
     "name": "stdout",
     "output_type": "stream",
     "text": [
      "<built-in method title of str object at 0x0000016E84F1E430>\n"
     ]
    }
   ],
   "source": [
    "print(name.title)"
   ]
  },
  {
   "cell_type": "code",
   "execution_count": 7,
   "id": "56f271bb",
   "metadata": {},
   "outputs": [
    {
     "name": "stdout",
     "output_type": "stream",
     "text": [
      "Fazal Zakir\n"
     ]
    }
   ],
   "source": [
    "print(name.title())"
   ]
  },
  {
   "cell_type": "code",
   "execution_count": 8,
   "id": "a784f429",
   "metadata": {},
   "outputs": [
    {
     "data": {
      "text/plain": [
       "str"
      ]
     },
     "execution_count": 8,
     "metadata": {},
     "output_type": "execute_result"
    }
   ],
   "source": [
    "type(name)"
   ]
  },
  {
   "cell_type": "code",
   "execution_count": null,
   "id": "0f04ba71",
   "metadata": {},
   "outputs": [],
   "source": []
  }
 ],
 "metadata": {
  "kernelspec": {
   "display_name": "Python 3",
   "language": "python",
   "name": "python3"
  },
  "language_info": {
   "codemirror_mode": {
    "name": "ipython",
    "version": 3
   },
   "file_extension": ".py",
   "mimetype": "text/x-python",
   "name": "python",
   "nbconvert_exporter": "python",
   "pygments_lexer": "ipython3",
   "version": "3.8.8"
  }
 },
 "nbformat": 4,
 "nbformat_minor": 5
}
